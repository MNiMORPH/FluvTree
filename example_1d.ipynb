{
 "cells": [
  {
   "cell_type": "code",
   "execution_count": null,
   "id": "d03a3e64",
   "metadata": {},
   "outputs": [],
   "source": [
    "%load_ext autoreload"
   ]
  },
  {
   "cell_type": "markdown",
   "id": "15c6056a",
   "metadata": {},
   "source": [
    "# Examples of using GRLP\n",
    "\n",
    "GRLP is a model for the long-profile evolution of a fluvial channel with a semi-implicit solver built in. \n",
    "The model takes a few basic inputs, and since the numerical solver has been set up implicitly, the model can take long timesteps while remaining stable. \n",
    "As its basic inputs, the model takes a sediment and water input, a spatial domain, an uplift rate, and a floodplain width, plus a slew of appropriate constants. \n",
    "The model can also replace some of these with a set of power-law scaling relationships between downstream distance and (1) valley width, (2) drainage area, and (3) discharge.\n",
    "If this approach is taken, it allows an analytical solution, assuming that these variables *actually* follow a power-law downstream. \n",
    "However, for the numerical solution, these can be an arbitrary functions up and downstream, instead of power laws. \n",
    "\n",
    "First, we will present an example where we compare the numerical solution with power-law functions for important variables to the corresponding analytical solution, which will demonstrate some basic outcomes and methods of interacting with the model. \n",
    "The very first thing to do is load the relevant libraries."
   ]
  },
  {
   "cell_type": "code",
   "execution_count": null,
   "id": "b1d457a9",
   "metadata": {},
   "outputs": [],
   "source": [
    "# Import numerical and plotting libraries\n",
    "import numpy as np\n",
    "from matplotlib import pyplot as plt\n",
    "from copy import deepcopy\n",
    "\n",
    "# Import the GRLP module\n",
    "import grlp"
   ]
  },
  {
   "cell_type": "code",
   "execution_count": null,
   "id": "dfddbf2e",
   "metadata": {},
   "outputs": [],
   "source": [
    "%autoreload"
   ]
  },
  {
   "cell_type": "markdown",
   "id": "13c060b8",
   "metadata": {},
   "source": [
    "GRLP is an object-oriented model, so next, we instantiate `grlp` model object,('`lp`') which creates the data structure, and associates methods with `lp`."
   ]
  },
  {
   "cell_type": "code",
   "execution_count": null,
   "id": "b8138c81",
   "metadata": {},
   "outputs": [],
   "source": [
    "lp = grlp.LongProfile()"
   ]
  },
  {
   "cell_type": "markdown",
   "id": "ae40dbac",
   "metadata": {},
   "source": [
    "To provide `lp` with the necessary starting values, we set some constants and create the domain, using some handy built-in methods that set a suite of reasonable constants for Earth rivers."
   ]
  },
  {
   "cell_type": "code",
   "execution_count": null,
   "id": "eedf956d",
   "metadata": {},
   "outputs": [],
   "source": [
    "# Set up the x domain\n",
    "lp.set_x(dx=1000, nx=90, x0=10000)\n",
    "\n",
    "# S0 is the upstream-end slope that determines the sediment input to the catchment\n",
    "S0 = 1.5E-2\n",
    "\n",
    "# Set up a starting set of channel-bed elevations (z) on a uniform slope (S0)\n",
    "lp.set_z(S0=-S0, z1 = 0)\n",
    "\n",
    "# Intermittency: What fraction of the total time is the river experiencing a\n",
    "# geomorphically-effective flood? This assumes a binary on--off state, common \n",
    "# for gravel-bed rivers with floodplains (see Blom et al., 2017)\n",
    "lp.set_intermittency(0.80)\n",
    "\n",
    "# Set up the number of iterations in semi-implicit solver; defaults to 3.\n",
    "lp.set_niter()\n",
    "\n",
    "# Utility functions to assign reasonable constants \n",
    "# (defined in the Wickert & Schildgen 2018)\n",
    "lp.basic_constants()\n",
    "lp.bedload_lumped_constants()\n",
    "lp.set_hydrologic_constants()"
   ]
  },
  {
   "cell_type": "markdown",
   "id": "364e8695",
   "metadata": {},
   "source": [
    "Pursuant to our assumption that valley width, discharge, and drainage area vary as power-law functions downstream, we will use handy setting functions that provide these values for the whole `x` domain."
   ]
  },
  {
   "cell_type": "code",
   "execution_count": null,
   "id": "1d006870",
   "metadata": {},
   "outputs": [],
   "source": [
    "# Set up transfer functions between drainage area (A), discharge (Q), and\n",
    "# valley width (B).\n",
    "\n",
    "# drainage area: A = k_xA * x**P_xA\n",
    "lp.set_A(k_xA=1., P_xA = 7/4)\n",
    "\n",
    "# discharge: Q = k_xQ * x**P_xQ\n",
    "lp.set_Q(k_xQ = 1.43e-5, P_xQ = 7/4*0.7)\n",
    "\n",
    "# Valley width: B = k_xB * x**P_xB\n",
    "lp.set_B(k_xB = 25, P_xB = 0.2)\n",
    "\n",
    "# Set the uplift rate [m/s]; positive upwards\n",
    "lp.set_uplift_rate(0)\n",
    "\n",
    "# Set the base level \n",
    "# This is currently redundant, but will be useful later. \n",
    "# the set_z function already assumes that z_bl starts at 0.\n",
    "lp.set_z_bl(0.)"
   ]
  },
  {
   "cell_type": "markdown",
   "id": "7817fd31",
   "metadata": {},
   "source": [
    "For the last part, we will set the input sediment flux, which arrives in the upstream (in our case left-most) model node. "
   ]
  },
  {
   "cell_type": "code",
   "execution_count": null,
   "id": "77e91179",
   "metadata": {},
   "outputs": [],
   "source": [
    "# Input sediment discharge: this is set based on your defined S0, above.\n",
    "# (this ficticious boundary-condition slope is the transport slope for the\n",
    "#  amount of sediment being supplied)\n",
    "\n",
    "Qs0 = lp.k_Qs * lp.Q[0] * (S0)**(7/6.)\n",
    "\n",
    "lp.set_Qs_input_upstream(Qs0)"
   ]
  },
  {
   "cell_type": "markdown",
   "id": "cc319669",
   "metadata": {},
   "source": [
    "Let's see what the initial model domain looks like, just making a plot of the long-profile. You'll notice that it's just a flat line, because of `lp.set_z(S0=-S0, z1 = 0)` above."
   ]
  },
  {
   "cell_type": "code",
   "execution_count": null,
   "id": "5e7a39ba",
   "metadata": {
    "scrolled": false
   },
   "outputs": [],
   "source": [
    "# Plot\n",
    "plt.figure(figsize=(12,6))\n",
    "plt.plot(lp.x/1000., lp.z, '0.6', linewidth=6, label='Numerical')\n",
    "plt.xlim(lp.x.min()/1000, lp.x.max()/1000)\n",
    "plt.ylim(0, lp.z.max())\n",
    "plt.xlabel('Downstream distance [km]', fontsize=26)\n",
    "plt.ylabel('Elevation [m]', fontsize=26)\n",
    "plt.tick_params(axis='both', which='major', labelsize=16)\n",
    "plt.legend()\n",
    "plt.tight_layout()\n",
    "plt.show()"
   ]
  },
  {
   "cell_type": "markdown",
   "id": "9f1f30ba",
   "metadata": {},
   "source": [
    "Now, we can evolve the river profile, and calculate the analytical and numerical solutions."
   ]
  },
  {
   "cell_type": "code",
   "execution_count": null,
   "id": "24c6288e",
   "metadata": {},
   "outputs": [],
   "source": [
    "# Numerical: (number of time steps, length of time step [s])\n",
    "# note that this is a very long time step (31 Ma)\n",
    "lp.evolve_threshold_width_river(1, 1E15)\n",
    "# Analytical, no time steps, just solve for equilibrium profile.\n",
    "zanalytical = lp.analytical_threshold_width() # suppress printing returned data."
   ]
  },
  {
   "cell_type": "markdown",
   "id": "0b9a4983",
   "metadata": {},
   "source": [
    "We can now plot the analytical solution, and the numerical solution together. They match!"
   ]
  },
  {
   "cell_type": "code",
   "execution_count": null,
   "id": "209cd55a",
   "metadata": {
    "scrolled": false
   },
   "outputs": [],
   "source": [
    "# Plot\n",
    "plt.figure(figsize=(12,6))\n",
    "plt.plot(lp.x/1000., lp.z, '0.6', linewidth=6, label='Numerical')\n",
    "plt.plot(lp.x/1000., lp.zanalytical, 'k', linewidth=2, label='Analytical')\n",
    "plt.xlim(lp.x.min()/1000, lp.x.max()/1000)\n",
    "plt.ylim(0, lp.z.max())\n",
    "plt.xlabel('Downstream distance [km]', fontsize=26)\n",
    "plt.ylabel('Elevation [m]', fontsize=26)\n",
    "plt.tick_params(axis='both', which='major', labelsize=16)\n",
    "plt.legend()\n",
    "plt.tight_layout()\n",
    "plt.show()"
   ]
  },
  {
   "cell_type": "markdown",
   "id": "73812d2f",
   "metadata": {},
   "source": [
    "So what is the geometry of this channel? The model object `lp` has a lot of attributes and methods. You can query them (like any other python object), using `dir()`."
   ]
  },
  {
   "cell_type": "code",
   "execution_count": null,
   "id": "37fbc2af",
   "metadata": {},
   "outputs": [],
   "source": [
    "# dir(lp)"
   ]
  },
  {
   "cell_type": "markdown",
   "id": "0a8e59c9",
   "metadata": {},
   "source": [
    "And we can see that the object has an attribute `B` for valley width, and `b` for river width. If we query `B`..."
   ]
  },
  {
   "cell_type": "code",
   "execution_count": null,
   "id": "ade56971",
   "metadata": {},
   "outputs": [],
   "source": [
    "# print(lp.B)"
   ]
  },
  {
   "cell_type": "markdown",
   "id": "60e611ec",
   "metadata": {},
   "source": [
    "but if we query `b` we get..."
   ]
  },
  {
   "cell_type": "code",
   "execution_count": null,
   "id": "db6eb239",
   "metadata": {
    "scrolled": true
   },
   "outputs": [],
   "source": [
    "print(lp.b)"
   ]
  },
  {
   "cell_type": "markdown",
   "id": "6223f629",
   "metadata": {},
   "source": [
    "because this information about channels (width, depth, etc.) is computed after the fact, and it requires knowledge of the grain size and sediment flux everywhere, which is not important for the long-profile evolution. So lets say the input grain size is 10 cm."
   ]
  },
  {
   "cell_type": "code",
   "execution_count": null,
   "id": "6df375f2",
   "metadata": {
    "scrolled": true
   },
   "outputs": [],
   "source": [
    "lp.D = 0.1\n",
    "lp.compute_Q_s()\n",
    "lp.compute_channel_width()\n",
    "lp.compute_flow_depth()\n",
    "print(lp.b)"
   ]
  },
  {
   "cell_type": "markdown",
   "id": "70dbcd06",
   "metadata": {},
   "source": [
    "And we can plot these things too."
   ]
  },
  {
   "cell_type": "code",
   "execution_count": null,
   "id": "71842bb8",
   "metadata": {},
   "outputs": [],
   "source": [
    "fig, axes = plt.subplots(3, 1, figsize=(12,10))\n",
    "axes[0].plot(lp.x/1000., lp.b, 'xkcd:blue', linewidth=4)\n",
    "axes[1].plot(lp.x/1000., lp.B, 'xkcd:red', linewidth=4)\n",
    "axes[2].plot(lp.x/1000., lp.h, 'xkcd:orange', linewidth=4)\n",
    "axes[2].set_xlabel('Downstream distance [km]', fontsize=16)\n",
    "axes[0].set_ylabel('Channel Width [m]', fontsize=16)\n",
    "axes[1].set_ylabel('Valley Width [m]', fontsize=16)\n",
    "axes[2].set_ylabel('Flow Depth [m]', fontsize=16)\n",
    "plt.tick_params(axis='both', which='major', labelsize=16)\n",
    "plt.tight_layout()\n"
   ]
  },
  {
   "cell_type": "markdown",
   "id": "686d275b",
   "metadata": {},
   "source": [
    "This is the basic usage of the model, which is for a given long-profile of a single stream, calculate the equilibrium profile. \n",
    "Now, there are plenty of situations where the analytical profile would not be expected to match the numerical profile, because there are several simplifying assumptions applied to the analytical solution to render the math tractable.\n",
    "2. Uplift is assumed to match river incision exactly for the analytical solution.\n",
    "1. Discharge, Drainage Area, and Valley Width must be specified functions of downstream distance. However, the model does not specify _why_ that should be, only that it is. So if the downstream function of these variables is anything but a power law, the solutions should be different. \n",
    "\n",
    "So, for fun, let's violate #1 and see how it goes.\n",
    "First, we will make a copy of the existing object using `deepcopy`, then we will change the boundary conditions, and run each of them forward. "
   ]
  },
  {
   "cell_type": "code",
   "execution_count": null,
   "id": "a38f78be",
   "metadata": {},
   "outputs": [],
   "source": [
    "lp_uplift = deepcopy(lp)\n",
    "lp_uplift.set_uplift_rate(1e-10) # in [m/s]\n",
    "\n",
    "lp_uplift.evolve_threshold_width_river(1, 1E15) # evolve for the same amount of time as lp\n",
    "_ = lp_uplift.analytical_threshold_width()\n",
    "\n",
    "lp.evolve_threshold_width_river(1, 1E15) # this is unnecessary, but it's not expensive\n",
    "_ = lp.analytical_threshold_width()\n",
    "\n",
    "lp.compute_Q_s()\n",
    "lp.compute_channel_width()\n",
    "lp.compute_flow_depth()\n",
    "\n",
    "lp_uplift.compute_Q_s()\n",
    "lp_uplift.compute_channel_width()\n",
    "lp_uplift.compute_flow_depth()"
   ]
  },
  {
   "cell_type": "code",
   "execution_count": null,
   "id": "67379ff1",
   "metadata": {},
   "outputs": [],
   "source": [
    "fig, axes = plt.subplots(2, 1, figsize=(12,10))\n",
    "axes[0].plot(lp.x/1000., lp.z, 'xkcd:green', linewidth=8, label = 'Numerical', alpha = 0.3)\n",
    "axes[0].plot(lp.x/1000., lp.zanalytical, 'xkcd:green', linewidth=2, label = 'Analytical', alpha = 1)\n",
    "axes[1].plot(lp.x/1000., lp_uplift.z, 'xkcd:purple', linewidth=8, label = 'Numerical', alpha = 0.3)\n",
    "axes[1].plot(lp.x/1000., lp_uplift.zanalytical, 'xkcd:purple', linewidth=2, label = 'Analytical', alpha = 1)\n",
    "axes[1].set_xlabel('Downstream distance [km]', fontsize=16)\n",
    "axes[0].set_title('Uplift = Incision', fontsize = 20)\n",
    "axes[1].set_title('Uplift ≠ Incision', fontsize = 20)\n",
    "for a in axes:\n",
    "    a.set_ylabel('Elevation [m]', fontsize=16)\n",
    "    a.legend()\n",
    "    a.tick_params(axis='both', which='major', labelsize=10)\n",
    "plt.tight_layout()"
   ]
  },
  {
   "cell_type": "markdown",
   "id": "71fc8f71",
   "metadata": {},
   "source": [
    "Violating #2 does other interesting stuff."
   ]
  },
  {
   "cell_type": "code",
   "execution_count": null,
   "id": "f73e2101",
   "metadata": {},
   "outputs": [],
   "source": [
    "# Screw with transfer functions between drainage area (A), discharge (Q), and valley width (B).\n",
    "# Instead of power laws, these are now either constants, or a linear function \n",
    "# (drainage area has to increase downstream --- that's just geometry)\n",
    "\n",
    "lp_constantQBA = deepcopy(lp)\n",
    "\n",
    "lp_constantQBA.set_Q(Q = np.repeat(lp.Q[0], len(lp.x)))\n",
    "lp_constantQBA.set_B(B = np.repeat(lp.B[0], len(lp.x)))\n",
    "lp_constantQBA.set_A(A = lp.x * np.repeat(lp.A[0], len(lp.x)))"
   ]
  },
  {
   "cell_type": "code",
   "execution_count": null,
   "id": "3253a7eb",
   "metadata": {},
   "outputs": [],
   "source": [
    "lp_constantQBA.evolve_threshold_width_river(1, 1E15) # evolve for the same amount of time as lp\n",
    "_ = lp_constantQBA.analytical_threshold_width()\n",
    "\n",
    "lp_constantQBA.compute_Q_s()\n",
    "lp_constantQBA.compute_channel_width()\n",
    "lp_constantQBA.compute_flow_depth()\n",
    "\n",
    "lp.evolve_threshold_width_river(1, 1E15) # this is unnecessary, but it's not expensive\n",
    "_ = lp.analytical_threshold_width()\n",
    "\n",
    "lp.compute_Q_s()\n",
    "lp.compute_channel_width()\n",
    "lp.compute_flow_depth()"
   ]
  },
  {
   "cell_type": "code",
   "execution_count": null,
   "id": "d67610ab",
   "metadata": {},
   "outputs": [],
   "source": [
    "fig, axes = plt.subplots(2, 1, figsize=(12,10))\n",
    "axes[0].plot(lp.x/1000., lp.z, 'xkcd:gold', linewidth=8, label = 'Numerical', alpha = 0.3)\n",
    "axes[0].plot(lp.x/1000., lp.zanalytical, 'xkcd:gold', linewidth=2, label = 'Analytical', alpha = 1)\n",
    "axes[1].plot(lp.x/1000., lp_constantQBA.z, 'xkcd:dark grey', linewidth=8, label = 'Numerical', alpha = 0.3)\n",
    "axes[1].plot(lp.x/1000., lp_constantQBA.zanalytical, 'xkcd:dark grey', linewidth=2, label = 'Analytical', alpha = 1)\n",
    "axes[1].set_xlabel('Downstream distance [km]', fontsize=16)\n",
    "axes[0].set_title('QBA vary as power-law', fontsize = 20)\n",
    "axes[1].set_title('QBA are all constants', fontsize = 20)\n",
    "for a in axes:\n",
    "    a.set_ylabel('Elevation [m]', fontsize=16)\n",
    "    a.legend()\n",
    "    a.tick_params(axis='both', which='major', labelsize=10)\n",
    "plt.tight_layout()"
   ]
  },
  {
   "cell_type": "markdown",
   "id": "4382316c",
   "metadata": {},
   "source": [
    "The river can also evolve through time! Till now, this tutorial uses _really_ big timesteps (300 My), but the model can also resolve shorter time. Here's a quick example, where an sudden increase in uplift rate is applied to the upstream end of our original channel profile `lp`."
   ]
  },
  {
   "cell_type": "code",
   "execution_count": null,
   "id": "be840d88",
   "metadata": {},
   "outputs": [],
   "source": [
    "lp_increase = deepcopy(lp)\n",
    "fig = plt.figure(figsize=(12,5))\n",
    "ax1 = fig.add_subplot(1,1,1)\n",
    "plt.xlabel('Downstream distance [km]', fontsize=14, fontweight='bold')\n",
    "plt.ylabel('Elevation [m]', fontsize=14, fontweight='bold')\n",
    "plt.tight_layout()\n",
    "\n",
    "# Initial condition\n",
    "ax1.plot(lp.x/1000., lp_increase.z, color='.5', linewidth=3, label = 'Start')\n",
    "\n",
    "# Transient\n",
    "U = 1E-3\n",
    "lp_increase.set_uplift_rate(U/3.15E7)\n",
    "for i in range(5):\n",
    "    lp_increase.evolve_threshold_width_river(1, 1E12) # five timesteps of 31 ka\n",
    "    ax1.plot(lp_increase.x/1000., lp_increase.z, color='.5', linewidth=1)\n",
    "\n",
    "# New equilibrium\n",
    "lp_increase.evolve_threshold_width_river(1, 1E14) # final state 3 Ma later\n",
    "ax1.plot(lp.x/1000., lp_increase.z, color='0', linewidth=3, label = 'Finish')\n",
    "\n",
    "ax1.legend()\n"
   ]
  }
 ],
 "metadata": {
  "kernelspec": {
   "display_name": "Python 3",
   "language": "python",
   "name": "python3"
  },
  "language_info": {
   "codemirror_mode": {
    "name": "ipython",
    "version": 3
   },
   "file_extension": ".py",
   "mimetype": "text/x-python",
   "name": "python",
   "nbconvert_exporter": "python",
   "pygments_lexer": "ipython3",
   "version": "3.8.8"
  }
 },
 "nbformat": 4,
 "nbformat_minor": 5
}
